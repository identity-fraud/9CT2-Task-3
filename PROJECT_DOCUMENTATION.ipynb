{
 "cells": [
  {
   "cell_type": "markdown",
   "id": "a68aaead",
   "metadata": {},
   "source": [
    "<h1 align=\"center\">Project Development</h1>"
   ]
  },
  {
   "cell_type": "markdown",
   "id": "f034f574",
   "metadata": {},
   "source": [
    "## Societal Issue"
   ]
  },
  {
   "cell_type": "markdown",
   "id": "0f091b15",
   "metadata": {},
   "source": [
    "### Mental Wellbeing have been increasingly been in decline."
   ]
  },
  {
   "cell_type": "markdown",
   "id": "237425fc",
   "metadata": {},
   "source": [
    "## Hypothesis:"
   ]
  },
  {
   "cell_type": "markdown",
   "id": "c070beb0",
   "metadata": {},
   "source": [
    "### Advancements in technology has resulted in a decline in Mental Wellbeing."
   ]
  },
  {
   "cell_type": "markdown",
   "id": "1d47c627",
   "metadata": {},
   "source": [
    "## Ideas Mindmap:"
   ]
  },
  {
   "cell_type": "markdown",
   "id": "9f1d64ee",
   "metadata": {},
   "source": [
    "![mindmap](Images/mindmap-data_science.png) "
   ]
  },
  {
   "cell_type": "markdown",
   "id": "e3ecb52f",
   "metadata": {},
   "source": [
    "## Requirements Outline: \n"
   ]
  },
  {
   "cell_type": "markdown",
   "id": "63ccfa92",
   "metadata": {},
   "source": [
    "### Functional Requirements\n",
    "* Gather data for analysing\n",
    "* Data should also be accurate\n",
    "* Use Pandas and/or Matplotlib to visualise the data\n",
    "### Non-functional Requirements\n",
    "* Easy to  and understand"
   ]
  },
  {
   "cell_type": "markdown",
   "id": "64397915",
   "metadata": {},
   "source": [
    "- - - - "
   ]
  },
  {
   "cell_type": "markdown",
   "id": "5997e890",
   "metadata": {},
   "source": [
    "## Use Case"
   ]
  },
  {
   "cell_type": "markdown",
   "id": "8e669df4",
   "metadata": {},
   "source": [
    "### Aim: \n",
    "#### Access and interact with data associated in Mental Wellbeing"
   ]
  },
  {
   "cell_type": "markdown",
   "id": "fdb470f5",
   "metadata": {},
   "source": [
    "### Prerequisites: \n",
    "* Data is bundled with the system\n",
    "* The user has access and is intelligent enough to interact with it"
   ]
  },
  {
   "cell_type": "markdown",
   "id": "05205407",
   "metadata": {},
   "source": [
    "### Expected flow\n",
    "1. User begins the program and is presented with text that they can interact with\n",
    "2. User selects any of the following options: <br>\n",
    "    a. Visualisation - data visualised in charts and graphs <br>\n",
    "    b. Search/Filter - ability to find more specific data\n",
    "### Post flow\n",
    "* User viewed and interacted with the data\n",
    "* Data remains available for future use\n",
    "* User (should) know something related to these information"
   ]
  },
  {
   "cell_type": "markdown",
   "id": "055b414e",
   "metadata": {},
   "source": [
    "## Research\n",
    "\n",
    "### Sources: \n",
    "\n",
    "* The effect of emerging technologies and products on mental health - https://pmc.ncbi.nlm.nih.gov/articles/PMC10520271\n",
    "* Adolescent Mental Health in the Digital Age - https://pmc.ncbi.nlm.nih.gov/articles/PMC8221420\n",
    "* Is Technology Use Leading to the Demise of Our Mental Health and Well-Being? https://www.asanet.org/footnotes-article/technology-use-leading-demise-our-mental-health-and-well-\n",
    "* Technology and the future of mental health treatment - https://www.nimh.nih.gov/health/topics/technology-and-the-future-of-mental-health-treatment\n"
   ]
  },
  {
   "cell_type": "markdown",
   "id": "8887b642",
   "metadata": {},
   "source": [
    "Many different studies have proven that use of technology typically leads to adverse health outcomes, including anxiety, social isolation and depression. Increasingly adolescents have been using technology with at least 95% of them owning a mobile phone and most spending 4-6 hours a day on them, this brings in the concern of how technology can influence their lives. Recently their have been an unprecendant increase in adolescent depression, many experts say that this is directly correlated to the increase in technology use within teenagers, and that the further technology advances (which promotes more people to engage in technology) the more likely overall societal mental wellbeing will decline.\n",
    "\n",
    "Contarily, their are still benefits in advancing technology for mental wellbeing. The internet being more easy to access allows people to resolve mental health issues more easily and conveniently through websites than a therapist or mental health specialist. For example someone can use an app that reminds them periodically to access their medication, or a different app that could track heartbeat, blood pressure and breathing to better manage their stress or anxiety "
   ]
  },
  {
   "cell_type": "markdown",
   "id": "23c595dd",
   "metadata": {},
   "source": []
  }
 ],
 "metadata": {
  "language_info": {
   "name": "python"
  }
 },
 "nbformat": 4,
 "nbformat_minor": 5
}
