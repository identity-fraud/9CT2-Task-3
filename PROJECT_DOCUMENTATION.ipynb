{
 "cells": [
  {
   "cell_type": "markdown",
   "id": "a68aaead",
   "metadata": {},
   "source": [
    "# Problem: Mental Wellbeing have been increasingly been in decline. "
   ]
  },
  {
   "cell_type": "markdown",
   "id": "63e4bb62",
   "metadata": {},
   "source": [
    "# Hypothesis: Advancements in technology has resulted in a decline in Mental Wellbeing."
   ]
  },
  {
   "cell_type": "markdown",
   "id": "e3ecb52f",
   "metadata": {},
   "source": [
    "# Requirements Outline: \n",
    "## Functional Requirements\n",
    "* Gather data for analysing\n",
    "* Use Pandas and/or Matplotlib to visualise the data\n",
    "## Non-functional Requirements\n",
    "* Easy to use\n",
    "\n",
    "# Use Cases\n",
    "## Aim: Access and interact with data associated in Mental Wellbeing\n",
    "## Prerequisites: \n",
    "* Data is bundled with the system\n",
    "* The user has access and is intelligent enough to interact with it\n",
    "## Expected flow\n",
    "1. User begins the program and is presented with text that they can interact with\n",
    "2. User selects any of the following options\n",
    "    a. Visualisation\n",
    "    b. Search/Filter\n",
    "## Post flow\n",
    "User viewed and interacted with the data\n",
    "Data remains available for future use\n",
    "User (should) know something related to these information\n"
   ]
  },
  {
   "cell_type": "markdown",
   "id": "055b414e",
   "metadata": {},
   "source": [
    "# Research\n",
    "\n",
    "### Sources: \n",
    "\n",
    "* The effect of emerging technologies and products on mental health - https://pmc.ncbi.nlm.nih.gov/articles/PMC10520271\n",
    "* Adolescent Mental Health in the Digital Age - https://pmc.ncbi.nlm.nih.gov/articles/PMC8221420\n",
    "* Is Technology Use Leading to the Demise of Our Mental Health and Well-Being? https://www.asanet.org/footnotes-article/technology-use-leading-demise-our-mental-health-and-well-being\n"
   ]
  }
 ],
 "metadata": {
  "language_info": {
   "name": "python"
  }
 },
 "nbformat": 4,
 "nbformat_minor": 5
}
