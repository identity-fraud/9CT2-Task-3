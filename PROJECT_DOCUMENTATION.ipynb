{
 "cells": [
  {
   "cell_type": "markdown",
   "id": "a68aaead",
   "metadata": {},
   "source": [
    "# Problem: Mental Wellbeing have been increasingly been in decline. "
   ]
  },
  {
   "cell_type": "markdown",
   "id": "63e4bb62",
   "metadata": {},
   "source": [
    "# Hypothesis: Advancements in technology has resulted in a decline in Mental Wellbeing."
   ]
  },
  {
   "cell_type": "markdown",
   "id": "e3ecb52f",
   "metadata": {},
   "source": [
    "# Requirements Outline: \n",
    "## Functional Requirements:\n",
    "* Gather data for analysing\n",
    "* Use Pandas and/or Matplotlib to visualise the data\n",
    "## Non-functional Requirements:\n",
    "* Easy to use"
   ]
  },
  {
   "cell_type": "markdown",
   "id": "055b414e",
   "metadata": {},
   "source": [
    "# Research"
   ]
  }
 ],
 "metadata": {
  "language_info": {
   "name": "python"
  }
 },
 "nbformat": 4,
 "nbformat_minor": 5
}
