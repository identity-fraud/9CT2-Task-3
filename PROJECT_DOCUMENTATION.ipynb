{
 "cells": [
  {
   "cell_type": "markdown",
   "id": "a68aaead",
   "metadata": {},
   "source": [
    "<h1 align=\"center\">Project Development</h1>"
   ]
  },
  {
   "cell_type": "markdown",
   "id": "f034f574",
   "metadata": {},
   "source": [
    "## Societal Issue"
   ]
  },
  {
   "cell_type": "markdown",
   "id": "0f091b15",
   "metadata": {},
   "source": [
    "### Mental Wellbeing have been increasingly been in decline."
   ]
  },
  {
   "cell_type": "markdown",
   "id": "237425fc",
   "metadata": {},
   "source": [
    "## Hypothesis:"
   ]
  },
  {
   "cell_type": "markdown",
   "id": "c070beb0",
   "metadata": {},
   "source": [
    "### Advancements in technology has resulted in a decline in Mental Wellbeing."
   ]
  },
  {
   "cell_type": "markdown",
   "id": "1d47c627",
   "metadata": {},
   "source": [
    "## Ideas Mindmap:"
   ]
  },
  {
   "cell_type": "markdown",
   "id": "9f1d64ee",
   "metadata": {},
   "source": [
    "![mindmap](Images/mindmap-data_science.png) "
   ]
  },
  {
   "cell_type": "markdown",
   "id": "e3ecb52f",
   "metadata": {},
   "source": [
    "## Requirements Outline: \n"
   ]
  },
  {
   "cell_type": "markdown",
   "id": "63ccfa92",
   "metadata": {},
   "source": [
    "### Functional Requirements\n",
    "* Gather data for analysing\n",
    "* Data should also be accurate\n",
    "* Use Pandas and/or Matplotlib to visualise the data\n",
    "### Non-functional Requirements\n",
    "* Easy to  and understand"
   ]
  },
  {
   "cell_type": "markdown",
   "id": "64397915",
   "metadata": {},
   "source": [
    "- - - - "
   ]
  },
  {
   "cell_type": "markdown",
   "id": "5997e890",
   "metadata": {},
   "source": [
    "## Use Case"
   ]
  },
  {
   "cell_type": "markdown",
   "id": "8e669df4",
   "metadata": {},
   "source": [
    "### Aim: \n",
    "#### Access and interact with data associated in Mental Wellbeing"
   ]
  },
  {
   "cell_type": "markdown",
   "id": "fdb470f5",
   "metadata": {},
   "source": [
    "### Prerequisites: \n",
    "* Data is bundled with the system\n",
    "* The user has access and is intelligent enough to interact with it"
   ]
  },
  {
   "cell_type": "markdown",
   "id": "05205407",
   "metadata": {},
   "source": [
    "### Expected flow\n",
    "1. User begins the program and is presented with text that they can interact with\n",
    "2. User selects any of the following options: <br>\n",
    "    a. Visualisation - data visualised in charts and graphs <br>\n",
    "    b. Search/Filter - ability to find more specific data\n",
    "### Post flow\n",
    "* User viewed and interacted with the data\n",
    "* Data remains available for future use\n",
    "* User (should) know something related to these information"
   ]
  },
  {
   "cell_type": "markdown",
   "id": "055b414e",
   "metadata": {},
   "source": [
    "## Research\n",
    "\n",
    "### Sources: \n",
    "\n",
    "* The effect of emerging technologies and products on mental health - https://pmc.ncbi.nlm.nih.gov/articles/PMC10520271\n",
    "* Adolescent Mental Health in the Digital Age - https://pmc.ncbi.nlm.nih.gov/articles/PMC8221420\n",
    "* Is Technology Use Leading to the Demise of Our Mental Health and Well-Being? https://www.asanet.org/footnotes-article/technology-use-leading-demise-our-mental-health-and-well-\n",
    "* Technology and the future of mental health treatment - https://www.nimh.nih.gov/health/topics/technology-and-the-future-of-mental-health-treatment\n"
   ]
  },
  {
   "cell_type": "markdown",
   "id": "8887b642",
   "metadata": {},
   "source": [
    "Many different studies have proven that use of technology typically leads to adverse health outcomes, including anxiety, social isolation and depression. Increasingly adolescents have been using technology with at least 95% of them owning a mobile phone and most spending 4-6 hours a day on them, this brings in the concern of how technology can influence their lives. Recently there has also been an unprecedented increase in adolescent depression, many experts say that this is directly correlated to the increase in technology use within teenagers, and that the further technology advances (which promotes more people to engage in technology) the more likely overall societal mental wellbeing will decline.\n",
    "\n",
    "Contrarily, there are still benefits in advancing technology for mental wellbeing. The internet being more easy to access allows people to resolve mental health issues more easily and conveniently through websites than a therapist or mental health specialist. For example, someone can use an app that reminds them periodically to access their medication, or a different app that could track heartbeat, blood pressure and breathing to better manage their stress or anxiety. In general, advancements in technology would make receiving mental health treatment more accessible, less costly and completely anonymous.\n",
    "\n",
    "Though many say that general technology use is only harmful when used excessively, it is important to know that more and more apps or games are designed to maximise viewer retention or engagement regardless of the harm it could cause to the viewer which could cause technology overuse itself, meaning that technology would eventually become dangerous or manipulative."
   ]
  },
  {
   "cell_type": "markdown",
   "id": "23c595dd",
   "metadata": {},
   "source": [
    "dATA\n",
    "https://ourworldindata.org/grapher/share-of-individuals-using-the-internet?time=latest (INTERNET USE)\n",
    "https://ourworldindata.org/grapher/share-with-mental-and-substance-disorders (Mental health statistics)\n",
    "https://www.openicpsr.org/openicpsr/project/175582/version/V1/view "
   ]
  },
  {
   "cell_type": "markdown",
   "id": "6f91cede",
   "metadata": {},
   "source": [
    "## Data Dictionary"
   ]
  },
  {
   "cell_type": "markdown",
   "id": "8b0bd638",
   "metadata": {},
   "source": [
    "| Field                        | Datatype | Format for display | Description                                | Example | Validation                                  |\n",
    "| ---------------------------- | -------- | ------------------ | ------------------------------------------ | ------- | ------------------------------------------- |\n",
    "| year                         | int      | NNNN               | What year the row's data was collected      | 1990    | Can only be a 4 number long natural integer |\n",
    "| Percentage of x in Australia | float64  | NN.NNN~            | The percent of x in Australia at that time | 23.34   | A decimal float up to 100                   |"
   ]
  },
  {
   "cell_type": "markdown",
   "id": "99870b0b",
   "metadata": {},
   "source": [
    "## Findings\n",
    "In my findings I found almost nothing that is correlated with both mental disorders and technology use in Australia, as that the percentage of people with mental health conditions consistently staying at around 20 percent of the population, while the use of technology has been rapidly increasing to nearly 95% and if there even was which was explained in the research it is too minor (around 0.003% differences every year) to possibly connect it to technology use. In conclusion technology use is not the cause for the decline in mental health\n",
    "\n",
    "\n",
    "## Evaluation\n",
    "I think that my python project for my assessment tasks succcessfully met my criteria of my functioning and non-functioning requirements, and that while my graphs and research were for nothing I still think it shows my capabilities I learnt and used with pandas and matplotlib. Though there are some issues, like how I did not use much data columns which led to a pretty small data dictionary and that the combined graph was not very high quality and clean since I wasn't able to find a way to use the pandas structure to create the plot. I also definitely could've made the documentation much better as it looks pretty boring and the commits could actually have given a useful description. In terms of security and accuracy I believe that the data was very accurate as it was taken from very unbiased and reliable sources such as Our World in Data and also having collected data in a 30 year period up to 2020 makes it also relevant today. The user interface could be more accessible if it was designed in a universal programming anguage that any device could access, but my knowledge and python prevents this. I also could have use tkinter to build a GUI allowing people to click buttons on their screen other than typing the number corresponding to the one they want, which would make the user experience much better, but since I haven't learnt it already I was unable to use it in this project within the time space."
   ]
  },
  {
   "cell_type": "markdown",
   "id": "a9796fcf",
   "metadata": {},
   "source": [
    "## Peer Evaluation\n"
   ]
  },
  {
   "cell_type": "markdown",
   "id": "8fe662e0",
   "metadata": {},
   "source": []
  }
 ],
 "metadata": {
  "language_info": {
   "name": "python"
  }
 },
 "nbformat": 4,
 "nbformat_minor": 5
}
